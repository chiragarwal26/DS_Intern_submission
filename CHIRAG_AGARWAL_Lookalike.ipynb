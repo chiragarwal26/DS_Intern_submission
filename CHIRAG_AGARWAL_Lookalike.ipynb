{
  "nbformat": 4,
  "nbformat_minor": 0,
  "metadata": {
    "colab": {
      "provenance": []
    },
    "kernelspec": {
      "name": "python3",
      "display_name": "Python 3"
    },
    "language_info": {
      "name": "python"
    }
  },
  "cells": [
    {
      "cell_type": "markdown",
      "source": [
        "# Task 2: Lookalike Model"
      ],
      "metadata": {
        "id": "EpbK8oQ0IszP"
      }
    },
    {
      "cell_type": "code",
      "execution_count": null,
      "metadata": {
        "id": "rjr0ShAfIlx-"
      },
      "outputs": [],
      "source": [
        "import pandas as pd\n",
        "import numpy as np\n",
        "from sklearn.preprocessing import StandardScaler\n",
        "from sklearn.metrics.pairwise import cosine_similarity\n",
        "\n",
        "\n",
        "# Merge datasets\n",
        "merged_data = pd.merge(transactions, products, on='ProductID', how='inner')\n",
        "merged_data = pd.merge(merged_data, customers, on='CustomerID', how='inner')\n",
        "\n",
        "# Create customer profiles\n",
        "customer_profiles = merged_data.groupby('CustomerID').agg({\n",
        "    'TotalValue': 'sum',\n",
        "    'Quantity': 'sum',\n",
        "    'Price': 'mean',\n",
        "    'Region': 'first',\n",
        "    'SignupDate': 'first'\n",
        "}).reset_index()\n",
        "\n",
        "# Normalize the features\n",
        "scaler = StandardScaler()\n",
        "customer_profiles_scaled = scaler.fit_transform(customer_profiles[['TotalValue', 'Quantity', 'Price']])\n",
        "\n",
        "# Calculate similarity using cosine similarity\n",
        "similarity_matrix = cosine_similarity(customer_profiles_scaled)\n",
        "\n",
        "# Function to get top 3 similar customers for each customer\n",
        "def get_lookalikes(customer_profiles, similarity_matrix, top_n=3):\n",
        "    lookalike_map = {}\n",
        "\n",
        "    for i, customer_id in enumerate(customer_profiles['CustomerID']):\n",
        "        # Get similarity scores for the customer\n",
        "        similarity_scores = similarity_matrix[i]\n",
        "\n",
        "        # Exclude self and get the top n most similar customers\n",
        "        similar_customer_indices = np.argsort(similarity_scores)[-top_n-1:-1][::-1]  # Exclude self (highest score)\n",
        "\n",
        "        # Create a list of (customerID, similarity_score) pairs\n",
        "        similar_customers = [(customer_profiles.iloc[j]['CustomerID'], similarity_scores[j])\n",
        "                             for j in similar_customer_indices]\n",
        "\n",
        "        # Store the top 3 similar customers\n",
        "        lookalike_map[customer_id] = similar_customers\n",
        "\n",
        "    return lookalike_map\n",
        "\n",
        "# Get top 3 lookalikes for the first 20 customers (C0001 to C0020)\n",
        "lookalike_map = get_lookalikes(customer_profiles, similarity_matrix)\n",
        "\n",
        "# Create a DataFrame for the lookalike map\n",
        "lookalike_data = []\n",
        "for customer_id, similar_customers in lookalike_map.items():\n",
        "    lookalike_data.append([customer_id] + [item for sublist in similar_customers for item in sublist])\n",
        "\n",
        "lookalike_df = pd.DataFrame(lookalike_data, columns=['CustomerID', 'Lookalike1', 'Score1', 'Lookalike2', 'Score2', 'Lookalike3', 'Score3'])\n",
        "\n",
        "# Save the lookalike map to a CSV file\n",
        "lookalike_df.to_csv('Lookalike.csv', index=False)\n",
        "\n",
        "print(\"Lookalike model has been created and saved to Lookalike.csv\")"
      ]
    }
  ]
}