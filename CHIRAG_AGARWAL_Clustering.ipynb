{
  "nbformat": 4,
  "nbformat_minor": 0,
  "metadata": {
    "colab": {
      "provenance": []
    },
    "kernelspec": {
      "name": "python3",
      "display_name": "Python 3"
    },
    "language_info": {
      "name": "python"
    }
  },
  "cells": [
    {
      "cell_type": "markdown",
      "source": [
        "# Task 3: Customer Segmentation / Clustering"
      ],
      "metadata": {
        "id": "EpbK8oQ0IszP"
      }
    },
    {
      "cell_type": "code",
      "execution_count": null,
      "metadata": {
        "id": "rjr0ShAfIlx-"
      },
      "outputs": [],
      "source": [
        "import pandas as pd\n",
        "import numpy as np\n",
        "from sklearn.preprocessing import StandardScaler\n",
        "from sklearn.cluster import KMeans\n",
        "from sklearn.metrics import davies_bouldin_score, silhouette_score\n",
        "import umap\n",
        "import matplotlib.pyplot as plt\n",
        "import seaborn as sns\n",
        "\n",
        "\n",
        "# Rename Price column in products to avoid conflict\n",
        "products.rename(columns={'Price': 'ProductPrice'}, inplace=True)\n",
        "\n",
        "# Merge datasets\n",
        "merged_data = pd.merge(transactions, products, on='ProductID', how='inner')\n",
        "merged_data = pd.merge(merged_data, customers, on='CustomerID', how='inner')\n",
        "\n",
        "# Ensure Price column exists\n",
        "if 'Price' not in merged_data.columns:\n",
        "    merged_data['Price'] = merged_data['ProductPrice']\n",
        "\n",
        "# Create customer profiles based on transaction history\n",
        "customer_profiles = merged_data.groupby('CustomerID').agg({\n",
        "    'TotalValue': 'sum',\n",
        "    'Quantity': 'sum',\n",
        "    'Price': 'mean',\n",
        "    'Region': 'first',\n",
        "    'SignupDate': 'first'\n",
        "}).reset_index()\n",
        "\n",
        "# Normalize the data for clustering\n",
        "scaler = StandardScaler()\n",
        "customer_profiles_scaled = scaler.fit_transform(customer_profiles[['TotalValue', 'Quantity', 'Price']])\n",
        "\n",
        "# Perform KMeans clustering\n",
        "kmeans = KMeans(n_clusters=4, random_state=42)\n",
        "customer_profiles['Cluster'] = kmeans.fit_predict(customer_profiles_scaled)\n",
        "\n",
        "# Calculate clustering metrics\n",
        "db_index = davies_bouldin_score(customer_profiles_scaled, customer_profiles['Cluster'])\n",
        "silhouette_avg = silhouette_score(customer_profiles_scaled, customer_profiles['Cluster'])\n",
        "\n",
        "print(f\"Davies-Bouldin Index: {db_index}\")\n",
        "print(f\"Silhouette Score: {silhouette_avg}\")\n",
        "\n",
        "# Reduce dimensions to 2D using UMAP\n",
        "umap_reducer = umap.UMAP(n_components=2, random_state=42)\n",
        "umap_result = umap_reducer.fit_transform(customer_profiles_scaled)\n",
        "\n",
        "customer_profiles['UMAP1'] = umap_result[:, 0]\n",
        "customer_profiles['UMAP2'] = umap_result[:, 1]\n",
        "\n",
        "# Visualize clusters using UMAP\n",
        "plt.figure(figsize=(10, 6))\n",
        "sns.scatterplot(x='UMAP1', y='UMAP2', hue='Cluster', data=customer_profiles, palette='viridis')\n",
        "plt.title('Customer Segmentation using UMAP')\n",
        "plt.show()\n",
        "\n",
        "# Save cluster information to a CSV file\n",
        "customer_profiles.to_csv('Customer_Segmentation.csv', index=False)"
      ]
    },
    {
      "cell_type": "markdown",
      "source": [
        "#RESULTS\n",
        " *  Davies-Bouldin Index: 1.12180191226693\n",
        " * Silhouette Score: 0.31097951039547694\n",
        "\n"
      ],
      "metadata": {
        "id": "6WCDXphWhSRh"
      }
    }
  ]
}