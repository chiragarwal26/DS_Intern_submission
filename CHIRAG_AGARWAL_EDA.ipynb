{
  "nbformat": 4,
  "nbformat_minor": 0,
  "metadata": {
    "colab": {
      "provenance": []
    },
    "kernelspec": {
      "name": "python3",
      "display_name": "Python 3"
    },
    "language_info": {
      "name": "python"
    }
  },
  "cells": [
    {
      "cell_type": "markdown",
      "source": [
        "# Task 1: Exploratory Data Analysis (EDA) and Business Insights"
      ],
      "metadata": {
        "id": "EpbK8oQ0IszP"
      }
    },
    {
      "cell_type": "code",
      "execution_count": null,
      "metadata": {
        "id": "rjr0ShAfIlx-"
      },
      "outputs": [],
      "source": [
        "def perform_eda():\n",
        "    # Rename Price column in products to avoid conflict during merge\n",
        "    products.rename(columns={'Price': 'ProductPrice'}, inplace=True)\n",
        "\n",
        "    # Merge datasets for comprehensive analysis\n",
        "    merged_data = pd.merge(transactions, products, on='ProductID', how='inner')\n",
        "    merged_data = pd.merge(merged_data, customers, on='CustomerID', how='inner')\n",
        "\n",
        "    # Convert dates to datetime format\n",
        "    merged_data['TransactionDate'] = pd.to_datetime(merged_data['TransactionDate'])\n",
        "    merged_data['SignupDate'] = pd.to_datetime(merged_data['SignupDate'])\n",
        "\n",
        "    # Basic EDA\n",
        "    print(\"Basic Information:\")\n",
        "    print(merged_data.info())\n",
        "    print(\"\\nSummary Statistics:\")\n",
        "    print(merged_data.describe())\n",
        "\n",
        "    # Check for missing values\n",
        "    print(\"\\nMissing Values:\")\n",
        "    print(merged_data.isnull().sum())\n",
        "\n",
        "    # Insight 1: Regional dominance\n",
        "    region_sales = merged_data.groupby('Region')['TotalValue'].sum().sort_values(ascending=False)\n",
        "    print(\"\\nSales by Region:\")\n",
        "    print(region_sales)\n",
        "\n",
        "    plt.figure(figsize=(10, 6))\n",
        "    sns.barplot(x=region_sales.index, y=region_sales.values)\n",
        "    plt.title('Total Sales by Region')\n",
        "    plt.xlabel('Region')\n",
        "    plt.ylabel('Total Sales')\n",
        "    plt.show()\n",
        "\n",
        "    # Insight 2: Category popularity\n",
        "    category_sales = merged_data.groupby('Category')['TotalValue'].sum().sort_values(ascending=False)\n",
        "    print(\"\\nSales by Category:\")\n",
        "    print(category_sales)\n",
        "\n",
        "    plt.figure(figsize=(10, 6))\n",
        "    sns.barplot(x=category_sales.index, y=category_sales.values)\n",
        "    plt.title('Total Sales by Product Category')\n",
        "    plt.xlabel('Category')\n",
        "    plt.ylabel('Total Sales')\n",
        "    plt.show()\n",
        "\n",
        "    # Insight 3: High-value customers\n",
        "    customer_sales = merged_data.groupby('CustomerID')['TotalValue'].sum()\n",
        "    top_customers = customer_sales.sort_values(ascending=False).head(10)\n",
        "    print(\"\\nTop 10 High-Value Customers:\")\n",
        "    print(top_customers)\n",
        "\n",
        "    plt.figure(figsize=(10, 6))\n",
        "    sns.barplot(x=top_customers.index.astype(str), y=top_customers.values)\n",
        "    plt.title('Top 10 High-Value Customers')\n",
        "    plt.xlabel('Customer ID')\n",
        "    plt.ylabel('Total Sales')\n",
        "    plt.xticks(rotation=45)\n",
        "    plt.show()\n",
        "\n",
        "    # Insight 4: Signup behavior\n",
        "    merged_data['SignupDate'] = pd.to_datetime(merged_data['SignupDate'])\n",
        "    merged_data['CustomerAge'] = (merged_data['TransactionDate'].max() - merged_data['SignupDate']).dt.days\n",
        "\n",
        "    recent_signups = merged_data[merged_data['CustomerAge'] < 180]  # Customers who signed up in the last 6 months\n",
        "    avg_value_recent = recent_signups['TotalValue'].mean()\n",
        "    print(f\"\\nAverage Transaction Value for Recent Signups (last 6 months): {avg_value_recent}\")\n",
        "\n",
        "    plt.figure(figsize=(10, 6))\n",
        "    sns.histplot(recent_signups['TotalValue'], bins=20, kde=True)\n",
        "    plt.title('Transaction Value Distribution for Recent Signups')\n",
        "    plt.xlabel('Total Transaction Value')\n",
        "    plt.ylabel('Frequency')\n",
        "    plt.show()\n",
        "\n",
        "    # Insight 5: Seasonal sales performance\n",
        "    merged_data['TransactionDate'] = pd.to_datetime(merged_data['TransactionDate'])\n",
        "    merged_data['Month'] = merged_data['TransactionDate'].dt.month\n",
        "    monthly_sales = merged_data.groupby('Month')['TotalValue'].sum()\n",
        "\n",
        "    print(\"\\nMonthly Sales Performance:\")\n",
        "    print(monthly_sales)\n",
        "\n",
        "    plt.figure(figsize=(10, 6))\n",
        "    sns.lineplot(x=monthly_sales.index, y=monthly_sales.values, marker='o')\n",
        "    plt.title('Monthly Sales Trend')\n",
        "    plt.xlabel('Month')\n",
        "    plt.ylabel('Total Sales')\n",
        "    plt.xticks(range(1, 13))\n",
        "    plt.grid(True)\n",
        "    plt.show()"
      ]
    },
    {
      "cell_type": "code",
      "source": [
        "# Execute the tasks\n",
        "perform_eda()"
      ],
      "metadata": {
        "id": "6LJgPukRIxlq"
      },
      "execution_count": null,
      "outputs": []
    }
  ]
}